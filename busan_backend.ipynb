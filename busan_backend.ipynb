{
  "nbformat": 4,
  "nbformat_minor": 0,
  "metadata": {
    "colab": {
      "provenance": [],
      "authorship_tag": "ABX9TyNE40m7SQPE6IkJRiS0CPUY",
      "include_colab_link": true
    },
    "kernelspec": {
      "name": "python3",
      "display_name": "Python 3"
    },
    "language_info": {
      "name": "python"
    }
  },
  "cells": [
    {
      "cell_type": "markdown",
      "metadata": {
        "id": "view-in-github",
        "colab_type": "text"
      },
      "source": [
        "<a href=\"https://colab.research.google.com/github/zn8834/Bigdata_Teamproject/blob/main/busan_backend.ipynb\" target=\"_parent\"><img src=\"https://colab.research.google.com/assets/colab-badge.svg\" alt=\"Open In Colab\"/></a>"
      ]
    },
    {
      "cell_type": "code",
      "execution_count": null,
      "metadata": {
        "colab": {
          "base_uri": "https://localhost:8080/"
        },
        "id": "GKq-dwjc8Ezi",
        "outputId": "e51c5375-83f5-4424-cc67-4e0b1cc891d9"
      },
      "outputs": [
        {
          "output_type": "stream",
          "name": "stdout",
          "text": [
            "Drive already mounted at /content/drive; to attempt to forcibly remount, call drive.mount(\"/content/drive\", force_remount=True).\n"
          ]
        }
      ],
      "source": [
        "\n",
        "#구글 드라이브에서 데이터(csv파일) 연동 위한 과정\n",
        "from google.colab import drive\n",
        "drive.mount('/content/drive')"
      ]
    },
    {
      "cell_type": "code",
      "source": [
        "\n",
        "filename1 = '/content/drive/My Drive/Colab Notebooks/dataset/busan_dataset.csv'"
      ],
      "metadata": {
        "id": "vZHKVt--8GeT"
      },
      "execution_count": null,
      "outputs": []
    },
    {
      "cell_type": "code",
      "source": [
        "\n",
        "from tensorflow.keras.models import Sequential\n",
        "from tensorflow.keras.layers import Dense\n",
        "from sklearn.preprocessing import LabelEncoder\n",
        "\n",
        "import pandas as pd\n",
        "import seaborn as sns\n",
        "import matplotlib.pyplot as plt\n",
        "import numpy as np\n",
        "import tensorflow as tf"
      ],
      "metadata": {
        "id": "aRfdbtks8Klb"
      },
      "execution_count": null,
      "outputs": []
    },
    {
      "cell_type": "code",
      "source": [
        "busan_dataset = pd.read_csv(filename1)"
      ],
      "metadata": {
        "id": "u9dK6MV68Kn6"
      },
      "execution_count": null,
      "outputs": []
    },
    {
      "cell_type": "code",
      "source": [
        "\n",
        "busan_dataset"
      ],
      "metadata": {
        "colab": {
          "base_uri": "https://localhost:8080/",
          "height": 571
        },
        "id": "TAeSTwQj8Kqq",
        "outputId": "986d954a-1850-4973-b69c-70e76c5d190e"
      },
      "execution_count": null,
      "outputs": [
        {
          "output_type": "execute_result",
          "data": {
            "text/plain": [
              "           gu  price  hospital  bus  convenience  subway  department  office  \\\n",
              "0     gangseo    728       102  482           84       0           0       4   \n",
              "1   geumjeong    898       371  448          328       8           1       7   \n",
              "2      gijang    802       101  746          263       2           0       4   \n",
              "3         nam    953       336  560          289       6           0       6   \n",
              "4        dong    936       202  253          114       5           1       4   \n",
              "5     dongrae   1287       516  591          267      11           1       9   \n",
              "6    busanjin   1092       857  690          521      10           1      11   \n",
              "7         buk    826       358  498          219      13           0       5   \n",
              "8      sasang    848       238  452          217       6           0       7   \n",
              "9        saha    675       428  741          302      12           0       8   \n",
              "10        seo    920       235  295          110       4           0      13   \n",
              "11    suyeong   1425       300  293          294       7           0       5   \n",
              "12     yeonje   1197       363  334          239       8           1       2   \n",
              "13    yeongdo    709       160  365           97       0           0      14   \n",
              "14       jung    712        66   77           50       0           1      10   \n",
              "15   haeundae   1209       462  690          328       8           3       7   \n",
              "\n",
              "    mart  kindergarten  library  park  school  bank  senior  \n",
              "0      1           107        5    77       9    28      50  \n",
              "1      6            84       18    38      27    21      97  \n",
              "2      5           151        9   142      23    12     239  \n",
              "3      7           133        9    43      28    29     133  \n",
              "4      4            35        8    13      11    18      76  \n",
              "5     10           108        7    46      26    37     145  \n",
              "6      9           156       17    59      37    55     263  \n",
              "7      8           165        8    82      24    23     148  \n",
              "8      8            96       11    39      16    26     126  \n",
              "9     10           159       19    55      31    32     201  \n",
              "10     5            43       12    31      11    14      62  \n",
              "11     4            73        5    31      10    19      85  \n",
              "12     9            83        8    31      11    30     123  \n",
              "13     2            47       14    39      15    17      65  \n",
              "14     0            13        7     9       4     4      27  \n",
              "15    29           184        9    71      30    54     241  "
            ],
            "text/html": [
              "\n",
              "  <div id=\"df-d90933c3-b169-4bb6-86b3-ff12be0a932a\" class=\"colab-df-container\">\n",
              "    <div>\n",
              "<style scoped>\n",
              "    .dataframe tbody tr th:only-of-type {\n",
              "        vertical-align: middle;\n",
              "    }\n",
              "\n",
              "    .dataframe tbody tr th {\n",
              "        vertical-align: top;\n",
              "    }\n",
              "\n",
              "    .dataframe thead th {\n",
              "        text-align: right;\n",
              "    }\n",
              "</style>\n",
              "<table border=\"1\" class=\"dataframe\">\n",
              "  <thead>\n",
              "    <tr style=\"text-align: right;\">\n",
              "      <th></th>\n",
              "      <th>gu</th>\n",
              "      <th>price</th>\n",
              "      <th>hospital</th>\n",
              "      <th>bus</th>\n",
              "      <th>convenience</th>\n",
              "      <th>subway</th>\n",
              "      <th>department</th>\n",
              "      <th>office</th>\n",
              "      <th>mart</th>\n",
              "      <th>kindergarten</th>\n",
              "      <th>library</th>\n",
              "      <th>park</th>\n",
              "      <th>school</th>\n",
              "      <th>bank</th>\n",
              "      <th>senior</th>\n",
              "    </tr>\n",
              "  </thead>\n",
              "  <tbody>\n",
              "    <tr>\n",
              "      <th>0</th>\n",
              "      <td>gangseo</td>\n",
              "      <td>728</td>\n",
              "      <td>102</td>\n",
              "      <td>482</td>\n",
              "      <td>84</td>\n",
              "      <td>0</td>\n",
              "      <td>0</td>\n",
              "      <td>4</td>\n",
              "      <td>1</td>\n",
              "      <td>107</td>\n",
              "      <td>5</td>\n",
              "      <td>77</td>\n",
              "      <td>9</td>\n",
              "      <td>28</td>\n",
              "      <td>50</td>\n",
              "    </tr>\n",
              "    <tr>\n",
              "      <th>1</th>\n",
              "      <td>geumjeong</td>\n",
              "      <td>898</td>\n",
              "      <td>371</td>\n",
              "      <td>448</td>\n",
              "      <td>328</td>\n",
              "      <td>8</td>\n",
              "      <td>1</td>\n",
              "      <td>7</td>\n",
              "      <td>6</td>\n",
              "      <td>84</td>\n",
              "      <td>18</td>\n",
              "      <td>38</td>\n",
              "      <td>27</td>\n",
              "      <td>21</td>\n",
              "      <td>97</td>\n",
              "    </tr>\n",
              "    <tr>\n",
              "      <th>2</th>\n",
              "      <td>gijang</td>\n",
              "      <td>802</td>\n",
              "      <td>101</td>\n",
              "      <td>746</td>\n",
              "      <td>263</td>\n",
              "      <td>2</td>\n",
              "      <td>0</td>\n",
              "      <td>4</td>\n",
              "      <td>5</td>\n",
              "      <td>151</td>\n",
              "      <td>9</td>\n",
              "      <td>142</td>\n",
              "      <td>23</td>\n",
              "      <td>12</td>\n",
              "      <td>239</td>\n",
              "    </tr>\n",
              "    <tr>\n",
              "      <th>3</th>\n",
              "      <td>nam</td>\n",
              "      <td>953</td>\n",
              "      <td>336</td>\n",
              "      <td>560</td>\n",
              "      <td>289</td>\n",
              "      <td>6</td>\n",
              "      <td>0</td>\n",
              "      <td>6</td>\n",
              "      <td>7</td>\n",
              "      <td>133</td>\n",
              "      <td>9</td>\n",
              "      <td>43</td>\n",
              "      <td>28</td>\n",
              "      <td>29</td>\n",
              "      <td>133</td>\n",
              "    </tr>\n",
              "    <tr>\n",
              "      <th>4</th>\n",
              "      <td>dong</td>\n",
              "      <td>936</td>\n",
              "      <td>202</td>\n",
              "      <td>253</td>\n",
              "      <td>114</td>\n",
              "      <td>5</td>\n",
              "      <td>1</td>\n",
              "      <td>4</td>\n",
              "      <td>4</td>\n",
              "      <td>35</td>\n",
              "      <td>8</td>\n",
              "      <td>13</td>\n",
              "      <td>11</td>\n",
              "      <td>18</td>\n",
              "      <td>76</td>\n",
              "    </tr>\n",
              "    <tr>\n",
              "      <th>5</th>\n",
              "      <td>dongrae</td>\n",
              "      <td>1287</td>\n",
              "      <td>516</td>\n",
              "      <td>591</td>\n",
              "      <td>267</td>\n",
              "      <td>11</td>\n",
              "      <td>1</td>\n",
              "      <td>9</td>\n",
              "      <td>10</td>\n",
              "      <td>108</td>\n",
              "      <td>7</td>\n",
              "      <td>46</td>\n",
              "      <td>26</td>\n",
              "      <td>37</td>\n",
              "      <td>145</td>\n",
              "    </tr>\n",
              "    <tr>\n",
              "      <th>6</th>\n",
              "      <td>busanjin</td>\n",
              "      <td>1092</td>\n",
              "      <td>857</td>\n",
              "      <td>690</td>\n",
              "      <td>521</td>\n",
              "      <td>10</td>\n",
              "      <td>1</td>\n",
              "      <td>11</td>\n",
              "      <td>9</td>\n",
              "      <td>156</td>\n",
              "      <td>17</td>\n",
              "      <td>59</td>\n",
              "      <td>37</td>\n",
              "      <td>55</td>\n",
              "      <td>263</td>\n",
              "    </tr>\n",
              "    <tr>\n",
              "      <th>7</th>\n",
              "      <td>buk</td>\n",
              "      <td>826</td>\n",
              "      <td>358</td>\n",
              "      <td>498</td>\n",
              "      <td>219</td>\n",
              "      <td>13</td>\n",
              "      <td>0</td>\n",
              "      <td>5</td>\n",
              "      <td>8</td>\n",
              "      <td>165</td>\n",
              "      <td>8</td>\n",
              "      <td>82</td>\n",
              "      <td>24</td>\n",
              "      <td>23</td>\n",
              "      <td>148</td>\n",
              "    </tr>\n",
              "    <tr>\n",
              "      <th>8</th>\n",
              "      <td>sasang</td>\n",
              "      <td>848</td>\n",
              "      <td>238</td>\n",
              "      <td>452</td>\n",
              "      <td>217</td>\n",
              "      <td>6</td>\n",
              "      <td>0</td>\n",
              "      <td>7</td>\n",
              "      <td>8</td>\n",
              "      <td>96</td>\n",
              "      <td>11</td>\n",
              "      <td>39</td>\n",
              "      <td>16</td>\n",
              "      <td>26</td>\n",
              "      <td>126</td>\n",
              "    </tr>\n",
              "    <tr>\n",
              "      <th>9</th>\n",
              "      <td>saha</td>\n",
              "      <td>675</td>\n",
              "      <td>428</td>\n",
              "      <td>741</td>\n",
              "      <td>302</td>\n",
              "      <td>12</td>\n",
              "      <td>0</td>\n",
              "      <td>8</td>\n",
              "      <td>10</td>\n",
              "      <td>159</td>\n",
              "      <td>19</td>\n",
              "      <td>55</td>\n",
              "      <td>31</td>\n",
              "      <td>32</td>\n",
              "      <td>201</td>\n",
              "    </tr>\n",
              "    <tr>\n",
              "      <th>10</th>\n",
              "      <td>seo</td>\n",
              "      <td>920</td>\n",
              "      <td>235</td>\n",
              "      <td>295</td>\n",
              "      <td>110</td>\n",
              "      <td>4</td>\n",
              "      <td>0</td>\n",
              "      <td>13</td>\n",
              "      <td>5</td>\n",
              "      <td>43</td>\n",
              "      <td>12</td>\n",
              "      <td>31</td>\n",
              "      <td>11</td>\n",
              "      <td>14</td>\n",
              "      <td>62</td>\n",
              "    </tr>\n",
              "    <tr>\n",
              "      <th>11</th>\n",
              "      <td>suyeong</td>\n",
              "      <td>1425</td>\n",
              "      <td>300</td>\n",
              "      <td>293</td>\n",
              "      <td>294</td>\n",
              "      <td>7</td>\n",
              "      <td>0</td>\n",
              "      <td>5</td>\n",
              "      <td>4</td>\n",
              "      <td>73</td>\n",
              "      <td>5</td>\n",
              "      <td>31</td>\n",
              "      <td>10</td>\n",
              "      <td>19</td>\n",
              "      <td>85</td>\n",
              "    </tr>\n",
              "    <tr>\n",
              "      <th>12</th>\n",
              "      <td>yeonje</td>\n",
              "      <td>1197</td>\n",
              "      <td>363</td>\n",
              "      <td>334</td>\n",
              "      <td>239</td>\n",
              "      <td>8</td>\n",
              "      <td>1</td>\n",
              "      <td>2</td>\n",
              "      <td>9</td>\n",
              "      <td>83</td>\n",
              "      <td>8</td>\n",
              "      <td>31</td>\n",
              "      <td>11</td>\n",
              "      <td>30</td>\n",
              "      <td>123</td>\n",
              "    </tr>\n",
              "    <tr>\n",
              "      <th>13</th>\n",
              "      <td>yeongdo</td>\n",
              "      <td>709</td>\n",
              "      <td>160</td>\n",
              "      <td>365</td>\n",
              "      <td>97</td>\n",
              "      <td>0</td>\n",
              "      <td>0</td>\n",
              "      <td>14</td>\n",
              "      <td>2</td>\n",
              "      <td>47</td>\n",
              "      <td>14</td>\n",
              "      <td>39</td>\n",
              "      <td>15</td>\n",
              "      <td>17</td>\n",
              "      <td>65</td>\n",
              "    </tr>\n",
              "    <tr>\n",
              "      <th>14</th>\n",
              "      <td>jung</td>\n",
              "      <td>712</td>\n",
              "      <td>66</td>\n",
              "      <td>77</td>\n",
              "      <td>50</td>\n",
              "      <td>0</td>\n",
              "      <td>1</td>\n",
              "      <td>10</td>\n",
              "      <td>0</td>\n",
              "      <td>13</td>\n",
              "      <td>7</td>\n",
              "      <td>9</td>\n",
              "      <td>4</td>\n",
              "      <td>4</td>\n",
              "      <td>27</td>\n",
              "    </tr>\n",
              "    <tr>\n",
              "      <th>15</th>\n",
              "      <td>haeundae</td>\n",
              "      <td>1209</td>\n",
              "      <td>462</td>\n",
              "      <td>690</td>\n",
              "      <td>328</td>\n",
              "      <td>8</td>\n",
              "      <td>3</td>\n",
              "      <td>7</td>\n",
              "      <td>29</td>\n",
              "      <td>184</td>\n",
              "      <td>9</td>\n",
              "      <td>71</td>\n",
              "      <td>30</td>\n",
              "      <td>54</td>\n",
              "      <td>241</td>\n",
              "    </tr>\n",
              "  </tbody>\n",
              "</table>\n",
              "</div>\n",
              "    <div class=\"colab-df-buttons\">\n",
              "\n",
              "  <div class=\"colab-df-container\">\n",
              "    <button class=\"colab-df-convert\" onclick=\"convertToInteractive('df-d90933c3-b169-4bb6-86b3-ff12be0a932a')\"\n",
              "            title=\"Convert this dataframe to an interactive table.\"\n",
              "            style=\"display:none;\">\n",
              "\n",
              "  <svg xmlns=\"http://www.w3.org/2000/svg\" height=\"24px\" viewBox=\"0 -960 960 960\">\n",
              "    <path d=\"M120-120v-720h720v720H120Zm60-500h600v-160H180v160Zm220 220h160v-160H400v160Zm0 220h160v-160H400v160ZM180-400h160v-160H180v160Zm440 0h160v-160H620v160ZM180-180h160v-160H180v160Zm440 0h160v-160H620v160Z\"/>\n",
              "  </svg>\n",
              "    </button>\n",
              "\n",
              "  <style>\n",
              "    .colab-df-container {\n",
              "      display:flex;\n",
              "      gap: 12px;\n",
              "    }\n",
              "\n",
              "    .colab-df-convert {\n",
              "      background-color: #E8F0FE;\n",
              "      border: none;\n",
              "      border-radius: 50%;\n",
              "      cursor: pointer;\n",
              "      display: none;\n",
              "      fill: #1967D2;\n",
              "      height: 32px;\n",
              "      padding: 0 0 0 0;\n",
              "      width: 32px;\n",
              "    }\n",
              "\n",
              "    .colab-df-convert:hover {\n",
              "      background-color: #E2EBFA;\n",
              "      box-shadow: 0px 1px 2px rgba(60, 64, 67, 0.3), 0px 1px 3px 1px rgba(60, 64, 67, 0.15);\n",
              "      fill: #174EA6;\n",
              "    }\n",
              "\n",
              "    .colab-df-buttons div {\n",
              "      margin-bottom: 4px;\n",
              "    }\n",
              "\n",
              "    [theme=dark] .colab-df-convert {\n",
              "      background-color: #3B4455;\n",
              "      fill: #D2E3FC;\n",
              "    }\n",
              "\n",
              "    [theme=dark] .colab-df-convert:hover {\n",
              "      background-color: #434B5C;\n",
              "      box-shadow: 0px 1px 3px 1px rgba(0, 0, 0, 0.15);\n",
              "      filter: drop-shadow(0px 1px 2px rgba(0, 0, 0, 0.3));\n",
              "      fill: #FFFFFF;\n",
              "    }\n",
              "  </style>\n",
              "\n",
              "    <script>\n",
              "      const buttonEl =\n",
              "        document.querySelector('#df-d90933c3-b169-4bb6-86b3-ff12be0a932a button.colab-df-convert');\n",
              "      buttonEl.style.display =\n",
              "        google.colab.kernel.accessAllowed ? 'block' : 'none';\n",
              "\n",
              "      async function convertToInteractive(key) {\n",
              "        const element = document.querySelector('#df-d90933c3-b169-4bb6-86b3-ff12be0a932a');\n",
              "        const dataTable =\n",
              "          await google.colab.kernel.invokeFunction('convertToInteractive',\n",
              "                                                    [key], {});\n",
              "        if (!dataTable) return;\n",
              "\n",
              "        const docLinkHtml = 'Like what you see? Visit the ' +\n",
              "          '<a target=\"_blank\" href=https://colab.research.google.com/notebooks/data_table.ipynb>data table notebook</a>'\n",
              "          + ' to learn more about interactive tables.';\n",
              "        element.innerHTML = '';\n",
              "        dataTable['output_type'] = 'display_data';\n",
              "        await google.colab.output.renderOutput(dataTable, element);\n",
              "        const docLink = document.createElement('div');\n",
              "        docLink.innerHTML = docLinkHtml;\n",
              "        element.appendChild(docLink);\n",
              "      }\n",
              "    </script>\n",
              "  </div>\n",
              "\n",
              "\n",
              "<div id=\"df-6ad5d2c8-4ab3-412e-b46d-e0218f7a7e46\">\n",
              "  <button class=\"colab-df-quickchart\" onclick=\"quickchart('df-6ad5d2c8-4ab3-412e-b46d-e0218f7a7e46')\"\n",
              "            title=\"Suggest charts\"\n",
              "            style=\"display:none;\">\n",
              "\n",
              "<svg xmlns=\"http://www.w3.org/2000/svg\" height=\"24px\"viewBox=\"0 0 24 24\"\n",
              "     width=\"24px\">\n",
              "    <g>\n",
              "        <path d=\"M19 3H5c-1.1 0-2 .9-2 2v14c0 1.1.9 2 2 2h14c1.1 0 2-.9 2-2V5c0-1.1-.9-2-2-2zM9 17H7v-7h2v7zm4 0h-2V7h2v10zm4 0h-2v-4h2v4z\"/>\n",
              "    </g>\n",
              "</svg>\n",
              "  </button>\n",
              "\n",
              "<style>\n",
              "  .colab-df-quickchart {\n",
              "      --bg-color: #E8F0FE;\n",
              "      --fill-color: #1967D2;\n",
              "      --hover-bg-color: #E2EBFA;\n",
              "      --hover-fill-color: #174EA6;\n",
              "      --disabled-fill-color: #AAA;\n",
              "      --disabled-bg-color: #DDD;\n",
              "  }\n",
              "\n",
              "  [theme=dark] .colab-df-quickchart {\n",
              "      --bg-color: #3B4455;\n",
              "      --fill-color: #D2E3FC;\n",
              "      --hover-bg-color: #434B5C;\n",
              "      --hover-fill-color: #FFFFFF;\n",
              "      --disabled-bg-color: #3B4455;\n",
              "      --disabled-fill-color: #666;\n",
              "  }\n",
              "\n",
              "  .colab-df-quickchart {\n",
              "    background-color: var(--bg-color);\n",
              "    border: none;\n",
              "    border-radius: 50%;\n",
              "    cursor: pointer;\n",
              "    display: none;\n",
              "    fill: var(--fill-color);\n",
              "    height: 32px;\n",
              "    padding: 0;\n",
              "    width: 32px;\n",
              "  }\n",
              "\n",
              "  .colab-df-quickchart:hover {\n",
              "    background-color: var(--hover-bg-color);\n",
              "    box-shadow: 0 1px 2px rgba(60, 64, 67, 0.3), 0 1px 3px 1px rgba(60, 64, 67, 0.15);\n",
              "    fill: var(--button-hover-fill-color);\n",
              "  }\n",
              "\n",
              "  .colab-df-quickchart-complete:disabled,\n",
              "  .colab-df-quickchart-complete:disabled:hover {\n",
              "    background-color: var(--disabled-bg-color);\n",
              "    fill: var(--disabled-fill-color);\n",
              "    box-shadow: none;\n",
              "  }\n",
              "\n",
              "  .colab-df-spinner {\n",
              "    border: 2px solid var(--fill-color);\n",
              "    border-color: transparent;\n",
              "    border-bottom-color: var(--fill-color);\n",
              "    animation:\n",
              "      spin 1s steps(1) infinite;\n",
              "  }\n",
              "\n",
              "  @keyframes spin {\n",
              "    0% {\n",
              "      border-color: transparent;\n",
              "      border-bottom-color: var(--fill-color);\n",
              "      border-left-color: var(--fill-color);\n",
              "    }\n",
              "    20% {\n",
              "      border-color: transparent;\n",
              "      border-left-color: var(--fill-color);\n",
              "      border-top-color: var(--fill-color);\n",
              "    }\n",
              "    30% {\n",
              "      border-color: transparent;\n",
              "      border-left-color: var(--fill-color);\n",
              "      border-top-color: var(--fill-color);\n",
              "      border-right-color: var(--fill-color);\n",
              "    }\n",
              "    40% {\n",
              "      border-color: transparent;\n",
              "      border-right-color: var(--fill-color);\n",
              "      border-top-color: var(--fill-color);\n",
              "    }\n",
              "    60% {\n",
              "      border-color: transparent;\n",
              "      border-right-color: var(--fill-color);\n",
              "    }\n",
              "    80% {\n",
              "      border-color: transparent;\n",
              "      border-right-color: var(--fill-color);\n",
              "      border-bottom-color: var(--fill-color);\n",
              "    }\n",
              "    90% {\n",
              "      border-color: transparent;\n",
              "      border-bottom-color: var(--fill-color);\n",
              "    }\n",
              "  }\n",
              "</style>\n",
              "\n",
              "  <script>\n",
              "    async function quickchart(key) {\n",
              "      const quickchartButtonEl =\n",
              "        document.querySelector('#' + key + ' button');\n",
              "      quickchartButtonEl.disabled = true;  // To prevent multiple clicks.\n",
              "      quickchartButtonEl.classList.add('colab-df-spinner');\n",
              "      try {\n",
              "        const charts = await google.colab.kernel.invokeFunction(\n",
              "            'suggestCharts', [key], {});\n",
              "      } catch (error) {\n",
              "        console.error('Error during call to suggestCharts:', error);\n",
              "      }\n",
              "      quickchartButtonEl.classList.remove('colab-df-spinner');\n",
              "      quickchartButtonEl.classList.add('colab-df-quickchart-complete');\n",
              "    }\n",
              "    (() => {\n",
              "      let quickchartButtonEl =\n",
              "        document.querySelector('#df-6ad5d2c8-4ab3-412e-b46d-e0218f7a7e46 button');\n",
              "      quickchartButtonEl.style.display =\n",
              "        google.colab.kernel.accessAllowed ? 'block' : 'none';\n",
              "    })();\n",
              "  </script>\n",
              "</div>\n",
              "\n",
              "  <div id=\"id_57442b82-0e0a-412e-887e-40a4ff431869\">\n",
              "    <style>\n",
              "      .colab-df-generate {\n",
              "        background-color: #E8F0FE;\n",
              "        border: none;\n",
              "        border-radius: 50%;\n",
              "        cursor: pointer;\n",
              "        display: none;\n",
              "        fill: #1967D2;\n",
              "        height: 32px;\n",
              "        padding: 0 0 0 0;\n",
              "        width: 32px;\n",
              "      }\n",
              "\n",
              "      .colab-df-generate:hover {\n",
              "        background-color: #E2EBFA;\n",
              "        box-shadow: 0px 1px 2px rgba(60, 64, 67, 0.3), 0px 1px 3px 1px rgba(60, 64, 67, 0.15);\n",
              "        fill: #174EA6;\n",
              "      }\n",
              "\n",
              "      [theme=dark] .colab-df-generate {\n",
              "        background-color: #3B4455;\n",
              "        fill: #D2E3FC;\n",
              "      }\n",
              "\n",
              "      [theme=dark] .colab-df-generate:hover {\n",
              "        background-color: #434B5C;\n",
              "        box-shadow: 0px 1px 3px 1px rgba(0, 0, 0, 0.15);\n",
              "        filter: drop-shadow(0px 1px 2px rgba(0, 0, 0, 0.3));\n",
              "        fill: #FFFFFF;\n",
              "      }\n",
              "    </style>\n",
              "    <button class=\"colab-df-generate\" onclick=\"generateWithVariable('busan_dataset')\"\n",
              "            title=\"Generate code using this dataframe.\"\n",
              "            style=\"display:none;\">\n",
              "\n",
              "  <svg xmlns=\"http://www.w3.org/2000/svg\" height=\"24px\"viewBox=\"0 0 24 24\"\n",
              "       width=\"24px\">\n",
              "    <path d=\"M7,19H8.4L18.45,9,17,7.55,7,17.6ZM5,21V16.75L18.45,3.32a2,2,0,0,1,2.83,0l1.4,1.43a1.91,1.91,0,0,1,.58,1.4,1.91,1.91,0,0,1-.58,1.4L9.25,21ZM18.45,9,17,7.55Zm-12,3A5.31,5.31,0,0,0,4.9,8.1,5.31,5.31,0,0,0,1,6.5,5.31,5.31,0,0,0,4.9,4.9,5.31,5.31,0,0,0,6.5,1,5.31,5.31,0,0,0,8.1,4.9,5.31,5.31,0,0,0,12,6.5,5.46,5.46,0,0,0,6.5,12Z\"/>\n",
              "  </svg>\n",
              "    </button>\n",
              "    <script>\n",
              "      (() => {\n",
              "      const buttonEl =\n",
              "        document.querySelector('#id_57442b82-0e0a-412e-887e-40a4ff431869 button.colab-df-generate');\n",
              "      buttonEl.style.display =\n",
              "        google.colab.kernel.accessAllowed ? 'block' : 'none';\n",
              "\n",
              "      buttonEl.onclick = () => {\n",
              "        google.colab.notebook.generateWithVariable('busan_dataset');\n",
              "      }\n",
              "      })();\n",
              "    </script>\n",
              "  </div>\n",
              "\n",
              "    </div>\n",
              "  </div>\n"
            ],
            "application/vnd.google.colaboratory.intrinsic+json": {
              "type": "dataframe",
              "variable_name": "busan_dataset",
              "summary": "{\n  \"name\": \"busan_dataset\",\n  \"rows\": 16,\n  \"fields\": [\n    {\n      \"column\": \"gu\",\n      \"properties\": {\n        \"dtype\": \"string\",\n        \"num_unique_values\": 16,\n        \"samples\": [\n          \"gangseo\",\n          \"geumjeong\",\n          \"dongrae\"\n        ],\n        \"semantic_type\": \"\",\n        \"description\": \"\"\n      }\n    },\n    {\n      \"column\": \"price\",\n      \"properties\": {\n        \"dtype\": \"number\",\n        \"std\": 227,\n        \"min\": 675,\n        \"max\": 1425,\n        \"num_unique_values\": 16,\n        \"samples\": [\n          728,\n          898,\n          1287\n        ],\n        \"semantic_type\": \"\",\n        \"description\": \"\"\n      }\n    },\n    {\n      \"column\": \"hospital\",\n      \"properties\": {\n        \"dtype\": \"number\",\n        \"std\": 196,\n        \"min\": 66,\n        \"max\": 857,\n        \"num_unique_values\": 16,\n        \"samples\": [\n          102,\n          371,\n          516\n        ],\n        \"semantic_type\": \"\",\n        \"description\": \"\"\n      }\n    },\n    {\n      \"column\": \"bus\",\n      \"properties\": {\n        \"dtype\": \"number\",\n        \"std\": 193,\n        \"min\": 77,\n        \"max\": 746,\n        \"num_unique_values\": 15,\n        \"samples\": [\n          741,\n          293,\n          482\n        ],\n        \"semantic_type\": \"\",\n        \"description\": \"\"\n      }\n    },\n    {\n      \"column\": \"convenience\",\n      \"properties\": {\n        \"dtype\": \"number\",\n        \"std\": 120,\n        \"min\": 50,\n        \"max\": 521,\n        \"num_unique_values\": 15,\n        \"samples\": [\n          302,\n          294,\n          84\n        ],\n        \"semantic_type\": \"\",\n        \"description\": \"\"\n      }\n    },\n    {\n      \"column\": \"subway\",\n      \"properties\": {\n        \"dtype\": \"number\",\n        \"std\": 4,\n        \"min\": 0,\n        \"max\": 13,\n        \"num_unique_values\": 11,\n        \"samples\": [\n          11,\n          0,\n          4\n        ],\n        \"semantic_type\": \"\",\n        \"description\": \"\"\n      }\n    },\n    {\n      \"column\": \"department\",\n      \"properties\": {\n        \"dtype\": \"number\",\n        \"std\": 0,\n        \"min\": 0,\n        \"max\": 3,\n        \"num_unique_values\": 3,\n        \"samples\": [\n          0,\n          1,\n          3\n        ],\n        \"semantic_type\": \"\",\n        \"description\": \"\"\n      }\n    },\n    {\n      \"column\": \"office\",\n      \"properties\": {\n        \"dtype\": \"number\",\n        \"std\": 3,\n        \"min\": 2,\n        \"max\": 14,\n        \"num_unique_values\": 11,\n        \"samples\": [\n          5,\n          4,\n          14\n        ],\n        \"semantic_type\": \"\",\n        \"description\": \"\"\n      }\n    },\n    {\n      \"column\": \"mart\",\n      \"properties\": {\n        \"dtype\": \"number\",\n        \"std\": 6,\n        \"min\": 0,\n        \"max\": 29,\n        \"num_unique_values\": 11,\n        \"samples\": [\n          10,\n          1,\n          0\n        ],\n        \"semantic_type\": \"\",\n        \"description\": \"\"\n      }\n    },\n    {\n      \"column\": \"kindergarten\",\n      \"properties\": {\n        \"dtype\": \"number\",\n        \"std\": 52,\n        \"min\": 13,\n        \"max\": 184,\n        \"num_unique_values\": 16,\n        \"samples\": [\n          107,\n          84,\n          108\n        ],\n        \"semantic_type\": \"\",\n        \"description\": \"\"\n      }\n    },\n    {\n      \"column\": \"library\",\n      \"properties\": {\n        \"dtype\": \"number\",\n        \"std\": 4,\n        \"min\": 5,\n        \"max\": 19,\n        \"num_unique_values\": 10,\n        \"samples\": [\n          12,\n          18,\n          17\n        ],\n        \"semantic_type\": \"\",\n        \"description\": \"\"\n      }\n    },\n    {\n      \"column\": \"park\",\n      \"properties\": {\n        \"dtype\": \"number\",\n        \"std\": 31,\n        \"min\": 9,\n        \"max\": 142,\n        \"num_unique_values\": 13,\n        \"samples\": [\n          9,\n          55,\n          77\n        ],\n        \"semantic_type\": \"\",\n        \"description\": \"\"\n      }\n    },\n    {\n      \"column\": \"school\",\n      \"properties\": {\n        \"dtype\": \"number\",\n        \"std\": 9,\n        \"min\": 4,\n        \"max\": 37,\n        \"num_unique_values\": 14,\n        \"samples\": [\n          31,\n          15,\n          9\n        ],\n        \"semantic_type\": \"\",\n        \"description\": \"\"\n      }\n    },\n    {\n      \"column\": \"bank\",\n      \"properties\": {\n        \"dtype\": \"number\",\n        \"std\": 13,\n        \"min\": 4,\n        \"max\": 55,\n        \"num_unique_values\": 16,\n        \"samples\": [\n          28,\n          21,\n          37\n        ],\n        \"semantic_type\": \"\",\n        \"description\": \"\"\n      }\n    },\n    {\n      \"column\": \"senior\",\n      \"properties\": {\n        \"dtype\": \"number\",\n        \"std\": 72,\n        \"min\": 27,\n        \"max\": 263,\n        \"num_unique_values\": 16,\n        \"samples\": [\n          50,\n          97,\n          145\n        ],\n        \"semantic_type\": \"\",\n        \"description\": \"\"\n      }\n    }\n  ]\n}"
            }
          },
          "metadata": {},
          "execution_count": 17
        }
      ]
    },
    {
      "cell_type": "code",
      "source": [
        "#서용자가 직접 값을 입력하는 과정(13개240\n",
        "\n",
        "price = int(input(\"원하시는 평당가(만)를 입력해주세요 => \"))\n",
        "hospital = int(input(\"원하시는 병원 수를 입력해주세요 => \"))\n",
        "bus = int(input(\"원하시는 버스 수를 입력해주세요 => \"))\n",
        "covenience = int(input(\"원하시는 편의점 수를 입력해주세요 => \"))\n",
        "subway = int(input(\"원하시는 지하철역 수를 입력해주세요 => \"))\n",
        "department = int(input(\"원하시는 백화점 수를 입력해주세요 => \"))\n",
        "office = int(input(\"원하시는 관공서 수를 입력해주세요 => \"))\n",
        "mart = int(input(\"원하시는 마트 수를 입력해주세요 => \"))\n",
        "kindergarten = int(input(\"원하시는 유치원 수를 입력해주세요 => \"))\n",
        "library = int(input(\"원하시는 도서관 수를 입력해주세요 => \"))\n",
        "park = int(input(\"원하시는 공원 수를 입력해주세요 => \"))\n",
        "school = int(input(\"원하시는 학교 수를 입력해주세요 => \"))\n",
        "bank = int(input(\"원하시는 은행 수를 입력해주세요 => \"))\n",
        "senior = int(input(\"원하시는 경로당 수를 입력해주세요 => \"))"
      ],
      "metadata": {
        "colab": {
          "base_uri": "https://localhost:8080/"
        },
        "id": "ojSFu_xM8Ks7",
        "outputId": "8a71d463-716b-4e0b-aa9b-6f816478e039"
      },
      "execution_count": null,
      "outputs": [
        {
          "name": "stdout",
          "output_type": "stream",
          "text": [
            "원하시는 평당가(만)를 입력해주세요 => 150\n",
            "원하시는 병원 수를 입력해주세요 => 5\n",
            "원하시는 버스 수를 입력해주세요 => 62\n",
            "원하시는 편의점 수를 입력해주세요 => 33\n",
            "원하시는 지하철역 수를 입력해주세요 => 3\n",
            "원하시는 백화점 수를 입력해주세요 => 2\n",
            "원하시는 관공서 수를 입력해주세요 => 2\n",
            "원하시는 마트 수를 입력해주세요 => 3\n",
            "원하시는 유치원 수를 입력해주세요 => 5\n",
            "원하시는 도서관 수를 입력해주세요 => 4\n",
            "원하시는 공원 수를 입력해주세요 => 6\n",
            "원하시는 학교 수를 입력해주세요 => 5\n",
            "원하시는 은행 수를 입력해주세요 => 2\n",
            "원하시는 경로당 수를 입력해주세요 => 1\n"
          ]
        }
      ]
    },
    {
      "cell_type": "code",
      "source": [
        "# 사용자가 입력한 값을 리스트로 저장\n",
        "input_user = np.array([price, hospital, bus, covenience, subway, department, office, mart, kindergarten, library, park, school, bank, senior])\n"
      ],
      "metadata": {
        "id": "kRRKf-so8KvL"
      },
      "execution_count": null,
      "outputs": []
    },
    {
      "cell_type": "code",
      "source": [
        "# 절댓값으로 판단한 결과가 들어갈 딕셔너리 생성(구 이름이 key, 최종점수가 value)\n",
        "result_gu = {\"gangseo\" : 0, \"geumjeong\" : 0, \"gijang\" : 0, \"nam\" : 0, \"dong\" : 0, \"dongrae\" : 0,\n",
        "             \"busanjin\" : 0, \"buk\" : 0, \"sasang\" : 0, \"saha\" : 0, \"suyeong\" : 0, \"yeonje\" : 0, \"yeongdo\" : 0, \"jung\" : 0, \"haeundae\" : 0}\n"
      ],
      "metadata": {
        "id": "cb0ZKYYM8Kxa"
      },
      "execution_count": null,
      "outputs": []
    },
    {
      "cell_type": "code",
      "source": [
        "#평당가에 대한 분석\n",
        "\n",
        "min_diff = float('inf')\n",
        "closest_gu = None\n",
        "\n",
        "for index, price_value in enumerate(busan_dataset.price):\n",
        "    diff = abs(price_value - input_user[0])\n",
        "    if diff < min_diff:\n",
        "        min_diff = diff\n",
        "        closest_gu = busan_dataset.gu[index]\n",
        "\n",
        "print(\"절댓값이 가장 근접한 구:\", closest_gu)\n",
        "print(\"절댓값의 차이:\", min_diff)\n",
        "\n",
        "result_gu[closest_gu] += 1\n",
        "\n",
        "result_gu"
      ],
      "metadata": {
        "colab": {
          "base_uri": "https://localhost:8080/"
        },
        "id": "j5u8KqZr8Kz7",
        "outputId": "e08ffbf2-9109-4931-c2b4-15d19a0f07be"
      },
      "execution_count": null,
      "outputs": [
        {
          "output_type": "stream",
          "name": "stdout",
          "text": [
            "절댓값이 가장 근접한 구: saha\n",
            "절댓값의 차이: 525\n"
          ]
        },
        {
          "output_type": "execute_result",
          "data": {
            "text/plain": [
              "{'gangseo': 0,\n",
              " 'geumjeong': 0,\n",
              " 'gijang': 0,\n",
              " 'nam': 0,\n",
              " 'dong': 0,\n",
              " 'dongrae': 0,\n",
              " 'busanjin': 0,\n",
              " 'buk': 0,\n",
              " 'sasang': 0,\n",
              " 'saha': 1,\n",
              " 'suyeong': 0,\n",
              " 'yeonje': 0,\n",
              " 'yeongdo': 0,\n",
              " 'jung': 0,\n",
              " 'haeundae': 0}"
            ]
          },
          "metadata": {},
          "execution_count": 21
        }
      ]
    },
    {
      "cell_type": "code",
      "source": [
        "#병원 수에 대한 분석\n",
        "min_diff = float('inf')\n",
        "closest_gu = None\n",
        "\n",
        "for index, hospital_value in enumerate(busan_dataset.hospital):\n",
        "    diff = abs(hospital_value - input_user[1])\n",
        "    if diff < min_diff:\n",
        "        min_diff = diff\n",
        "        closest_gu = busan_dataset.gu[index]\n",
        "\n",
        "print(\"절댓값이 가장 근접한 구:\", closest_gu)\n",
        "print(\"절댓값의 차이:\", min_diff)\n",
        "\n",
        "result_gu[closest_gu] += 1\n",
        "\n",
        "result_gu"
      ],
      "metadata": {
        "colab": {
          "base_uri": "https://localhost:8080/"
        },
        "id": "z1flj5_u8S5r",
        "outputId": "a8d21210-06a3-445e-eca8-eba3b3538663"
      },
      "execution_count": null,
      "outputs": [
        {
          "output_type": "stream",
          "name": "stdout",
          "text": [
            "절댓값이 가장 근접한 구: jung\n",
            "절댓값의 차이: 61\n"
          ]
        },
        {
          "output_type": "execute_result",
          "data": {
            "text/plain": [
              "{'gangseo': 0,\n",
              " 'geumjeong': 0,\n",
              " 'gijang': 0,\n",
              " 'nam': 0,\n",
              " 'dong': 0,\n",
              " 'dongrae': 0,\n",
              " 'busanjin': 0,\n",
              " 'buk': 0,\n",
              " 'sasang': 0,\n",
              " 'saha': 1,\n",
              " 'suyeong': 0,\n",
              " 'yeonje': 0,\n",
              " 'yeongdo': 0,\n",
              " 'jung': 1,\n",
              " 'haeundae': 0}"
            ]
          },
          "metadata": {},
          "execution_count": 22
        }
      ]
    },
    {
      "cell_type": "code",
      "source": [
        "#버스 개수에 대한 절댓값 분석\n",
        "min_diff = float('inf')\n",
        "closest_gu = None\n",
        "\n",
        "for index, bus_value in enumerate(busan_dataset.bus):\n",
        "  diff = abs(bus_value - input_user[2])\n",
        "  if diff < min_diff:\n",
        "    min_diff = diff\n",
        "    closest_gu = busan_dataset.gu[index]\n",
        "\n",
        "print(\"절댓값이 가장 근접한 구:\", closest_gu)\n",
        "print(\"절댓값의 차이:\", min_diff)\n",
        "\n",
        "result_gu[closest_gu] += 1\n",
        "\n",
        "result_gu\n",
        "\n"
      ],
      "metadata": {
        "colab": {
          "base_uri": "https://localhost:8080/"
        },
        "id": "CwbtSRLy8S8D",
        "outputId": "2ae2ed97-af94-48cf-e4df-e54d60a0872a"
      },
      "execution_count": null,
      "outputs": [
        {
          "output_type": "stream",
          "name": "stdout",
          "text": [
            "절댓값이 가장 근접한 구: jung\n",
            "절댓값의 차이: 15\n"
          ]
        },
        {
          "output_type": "execute_result",
          "data": {
            "text/plain": [
              "{'gangseo': 0,\n",
              " 'geumjeong': 0,\n",
              " 'gijang': 0,\n",
              " 'nam': 0,\n",
              " 'dong': 0,\n",
              " 'dongrae': 0,\n",
              " 'busanjin': 0,\n",
              " 'buk': 0,\n",
              " 'sasang': 0,\n",
              " 'saha': 1,\n",
              " 'suyeong': 0,\n",
              " 'yeonje': 0,\n",
              " 'yeongdo': 0,\n",
              " 'jung': 2,\n",
              " 'haeundae': 0}"
            ]
          },
          "metadata": {},
          "execution_count": 23
        }
      ]
    },
    {
      "cell_type": "code",
      "source": [
        "#편의점 개수에 대한 분석\n",
        "min_diff = float('inf')\n",
        "closest_gu = None\n",
        "\n",
        "for index, covenience_value in enumerate(busan_dataset.convenience):\n",
        "  diff = abs(covenience_value - input_user[3])\n",
        "  if diff < min_diff:\n",
        "    min_diff = diff\n",
        "    closest_gu = busan_dataset.gu[index]\n",
        "\n",
        "print(\"절댓값이 가장 근접한 구:\", closest_gu)\n",
        "print(\"절댓값의 차이:\", min_diff)\n",
        "\n",
        "result_gu[closest_gu] += 1\n",
        "\n",
        "result_gu"
      ],
      "metadata": {
        "colab": {
          "base_uri": "https://localhost:8080/"
        },
        "id": "KOs3uhU18S-i",
        "outputId": "7acbe06e-cd9a-4f47-94a6-3bd458d4ea79"
      },
      "execution_count": null,
      "outputs": [
        {
          "output_type": "stream",
          "name": "stdout",
          "text": [
            "절댓값이 가장 근접한 구: jung\n",
            "절댓값의 차이: 17\n"
          ]
        },
        {
          "output_type": "execute_result",
          "data": {
            "text/plain": [
              "{'gangseo': 0,\n",
              " 'geumjeong': 0,\n",
              " 'gijang': 0,\n",
              " 'nam': 0,\n",
              " 'dong': 0,\n",
              " 'dongrae': 0,\n",
              " 'busanjin': 0,\n",
              " 'buk': 0,\n",
              " 'sasang': 0,\n",
              " 'saha': 1,\n",
              " 'suyeong': 0,\n",
              " 'yeonje': 0,\n",
              " 'yeongdo': 0,\n",
              " 'jung': 3,\n",
              " 'haeundae': 0}"
            ]
          },
          "metadata": {},
          "execution_count": 24
        }
      ]
    },
    {
      "cell_type": "code",
      "source": [
        "#지하철 개수에 대한 분석\n",
        "min_diff = float('inf')\n",
        "closest_gu = None\n",
        "\n",
        "for index, subway_value in enumerate(busan_dataset.subway):\n",
        "  diff = abs(subway_value - input_user[4])\n",
        "  if diff < min_diff:\n",
        "    min_diff = diff\n",
        "    closest_gu = busan_dataset.gu[index]\n",
        "\n",
        "print(\"절댓값이 가장 근접한 구:\", closest_gu)\n",
        "print(\"절댓값의 차이:\", min_diff)\n",
        "\n",
        "result_gu[closest_gu] += 1\n",
        "\n",
        "result_gu\n"
      ],
      "metadata": {
        "colab": {
          "base_uri": "https://localhost:8080/"
        },
        "id": "zaTo2dJq8TAr",
        "outputId": "627277ac-59f1-4de5-8713-09125407a36a"
      },
      "execution_count": null,
      "outputs": [
        {
          "output_type": "stream",
          "name": "stdout",
          "text": [
            "절댓값이 가장 근접한 구: gijang\n",
            "절댓값의 차이: 1\n"
          ]
        },
        {
          "output_type": "execute_result",
          "data": {
            "text/plain": [
              "{'gangseo': 0,\n",
              " 'geumjeong': 0,\n",
              " 'gijang': 1,\n",
              " 'nam': 0,\n",
              " 'dong': 0,\n",
              " 'dongrae': 0,\n",
              " 'busanjin': 0,\n",
              " 'buk': 0,\n",
              " 'sasang': 0,\n",
              " 'saha': 1,\n",
              " 'suyeong': 0,\n",
              " 'yeonje': 0,\n",
              " 'yeongdo': 0,\n",
              " 'jung': 3,\n",
              " 'haeundae': 0}"
            ]
          },
          "metadata": {},
          "execution_count": 25
        }
      ]
    },
    {
      "cell_type": "code",
      "source": [
        "#백화점 수에 대한 분석\n",
        "min_diff = float('inf')\n",
        "closest_gu = None\n",
        "\n",
        "for index, department_value in enumerate(busan_dataset.department):\n",
        "  diff = abs(department_value - input_user[5])\n",
        "  if diff < min_diff:\n",
        "    min_diff = diff\n",
        "    closest_gu = busan_dataset.gu[index]\n",
        "\n",
        "print(\"절댓값이 가장 근접한 구:\", closest_gu)\n",
        "print(\"절댓값의 차이:\", min_diff)\n",
        "\n",
        "result_gu[closest_gu] += 1\n",
        "\n",
        "result_gu"
      ],
      "metadata": {
        "colab": {
          "base_uri": "https://localhost:8080/"
        },
        "id": "yYRjD0NB8K2D",
        "outputId": "bc563335-9814-4f99-9c9a-1986a6e2d590"
      },
      "execution_count": null,
      "outputs": [
        {
          "output_type": "stream",
          "name": "stdout",
          "text": [
            "절댓값이 가장 근접한 구: geumjeong\n",
            "절댓값의 차이: 1\n"
          ]
        },
        {
          "output_type": "execute_result",
          "data": {
            "text/plain": [
              "{'gangseo': 0,\n",
              " 'geumjeong': 1,\n",
              " 'gijang': 1,\n",
              " 'nam': 0,\n",
              " 'dong': 0,\n",
              " 'dongrae': 0,\n",
              " 'busanjin': 0,\n",
              " 'buk': 0,\n",
              " 'sasang': 0,\n",
              " 'saha': 1,\n",
              " 'suyeong': 0,\n",
              " 'yeonje': 0,\n",
              " 'yeongdo': 0,\n",
              " 'jung': 3,\n",
              " 'haeundae': 0}"
            ]
          },
          "metadata": {},
          "execution_count": 26
        }
      ]
    },
    {
      "cell_type": "code",
      "source": [
        "#관공서에 대한 분석\n",
        "min_diff = float('inf')\n",
        "closest_gu = None\n",
        "\n",
        "for index, office_value in enumerate(busan_dataset.office):\n",
        "  diff = abs(office_value - input_user[6])\n",
        "  if diff < min_diff:\n",
        "    min_diff = diff\n",
        "    closest_gu = busan_dataset.gu[index]\n",
        "\n",
        "print(\"절댓값이 가장 근접한 구:\", closest_gu)\n",
        "print(\"절댓값의 차이:\", min_diff)\n",
        "\n",
        "result_gu[closest_gu] += 1\n",
        "\n",
        "result_gu"
      ],
      "metadata": {
        "colab": {
          "base_uri": "https://localhost:8080/"
        },
        "id": "uBN1kgvM8XrL",
        "outputId": "5ebd7f1c-16c7-418e-c7ec-4884b89191a0"
      },
      "execution_count": null,
      "outputs": [
        {
          "output_type": "stream",
          "name": "stdout",
          "text": [
            "절댓값이 가장 근접한 구: yeonje\n",
            "절댓값의 차이: 0\n"
          ]
        },
        {
          "output_type": "execute_result",
          "data": {
            "text/plain": [
              "{'gangseo': 0,\n",
              " 'geumjeong': 1,\n",
              " 'gijang': 1,\n",
              " 'nam': 0,\n",
              " 'dong': 0,\n",
              " 'dongrae': 0,\n",
              " 'busanjin': 0,\n",
              " 'buk': 0,\n",
              " 'sasang': 0,\n",
              " 'saha': 1,\n",
              " 'suyeong': 0,\n",
              " 'yeonje': 1,\n",
              " 'yeongdo': 0,\n",
              " 'jung': 3,\n",
              " 'haeundae': 0}"
            ]
          },
          "metadata": {},
          "execution_count": 27
        }
      ]
    },
    {
      "cell_type": "code",
      "source": [
        "#마트에 대한 분석\n",
        "min_diff = float('inf')\n",
        "closest_gu = None\n",
        "\n",
        "for index, mart_value in enumerate(busan_dataset.mart):\n",
        "  diff = abs(mart_value - input_user[7])\n",
        "  if diff < min_diff:\n",
        "    min_diff = diff\n",
        "    closest_gu = busan_dataset.gu[index]\n",
        "\n",
        "print(\"절댓값이 가장 근접한 구:\", closest_gu)\n",
        "print(\"절댓값의 차이:\", min_diff)\n",
        "\n",
        "result_gu[closest_gu] += 1\n",
        "\n",
        "result_gu\n",
        "\n"
      ],
      "metadata": {
        "colab": {
          "base_uri": "https://localhost:8080/"
        },
        "id": "ifzplDyJ8Xtb",
        "outputId": "ebc144bd-8b12-47fc-c219-a4e0e715e8e6"
      },
      "execution_count": null,
      "outputs": [
        {
          "output_type": "stream",
          "name": "stdout",
          "text": [
            "절댓값이 가장 근접한 구: dong\n",
            "절댓값의 차이: 1\n"
          ]
        },
        {
          "output_type": "execute_result",
          "data": {
            "text/plain": [
              "{'gangseo': 0,\n",
              " 'geumjeong': 1,\n",
              " 'gijang': 1,\n",
              " 'nam': 0,\n",
              " 'dong': 1,\n",
              " 'dongrae': 0,\n",
              " 'busanjin': 0,\n",
              " 'buk': 0,\n",
              " 'sasang': 0,\n",
              " 'saha': 1,\n",
              " 'suyeong': 0,\n",
              " 'yeonje': 1,\n",
              " 'yeongdo': 0,\n",
              " 'jung': 3,\n",
              " 'haeundae': 0}"
            ]
          },
          "metadata": {},
          "execution_count": 28
        }
      ]
    },
    {
      "cell_type": "code",
      "source": [
        "#어린이집에 대한 분석\n",
        "min_diff = float('inf')\n",
        "closest_gu = None\n",
        "\n",
        "for index, kindergarten_value in enumerate(busan_dataset.kindergarten):\n",
        "  diff = abs(kindergarten_value - input_user[8])\n",
        "  if diff < min_diff:\n",
        "    min_diff = diff\n",
        "    closest_gu = busan_dataset.gu[index]\n",
        "\n",
        "print(\"절댓값이 가장 근접한 구:\", closest_gu)\n",
        "print(\"절댓값의 차이:\", min_diff)\n",
        "\n",
        "result_gu[closest_gu] += 1\n",
        "\n",
        "result_gu"
      ],
      "metadata": {
        "colab": {
          "base_uri": "https://localhost:8080/"
        },
        "id": "Lf80IHRu8Xxt",
        "outputId": "72b9f3de-2689-4310-9f4a-df5ddad4ace3"
      },
      "execution_count": null,
      "outputs": [
        {
          "output_type": "stream",
          "name": "stdout",
          "text": [
            "절댓값이 가장 근접한 구: jung\n",
            "절댓값의 차이: 8\n"
          ]
        },
        {
          "output_type": "execute_result",
          "data": {
            "text/plain": [
              "{'gangseo': 0,\n",
              " 'geumjeong': 1,\n",
              " 'gijang': 1,\n",
              " 'nam': 0,\n",
              " 'dong': 1,\n",
              " 'dongrae': 0,\n",
              " 'busanjin': 0,\n",
              " 'buk': 0,\n",
              " 'sasang': 0,\n",
              " 'saha': 1,\n",
              " 'suyeong': 0,\n",
              " 'yeonje': 1,\n",
              " 'yeongdo': 0,\n",
              " 'jung': 4,\n",
              " 'haeundae': 0}"
            ]
          },
          "metadata": {},
          "execution_count": 29
        }
      ]
    },
    {
      "cell_type": "code",
      "source": [
        "#도서관에 대한 분석\n",
        "min_diff = float('inf')\n",
        "closest_gu = None\n",
        "\n",
        "for index, library_value in enumerate(busan_dataset.library):\n",
        "  diff = abs(library_value - input_user[9])\n",
        "  if diff < min_diff:\n",
        "    min_diff = diff\n",
        "    closest_gu = busan_dataset.gu[index]\n",
        "\n",
        "print(\"절댓값이 가장 근접한 구:\", closest_gu)\n",
        "print(\"절댓값의 차이:\", min_diff)\n",
        "\n",
        "result_gu[closest_gu] += 1\n",
        "\n",
        "result_gu"
      ],
      "metadata": {
        "colab": {
          "base_uri": "https://localhost:8080/"
        },
        "id": "h3JxJLmg8X0F",
        "outputId": "ebaf841e-b15c-4c89-9851-08f920a5a61b"
      },
      "execution_count": null,
      "outputs": [
        {
          "output_type": "stream",
          "name": "stdout",
          "text": [
            "절댓값이 가장 근접한 구: gangseo\n",
            "절댓값의 차이: 1\n"
          ]
        },
        {
          "output_type": "execute_result",
          "data": {
            "text/plain": [
              "{'gangseo': 1,\n",
              " 'geumjeong': 1,\n",
              " 'gijang': 1,\n",
              " 'nam': 0,\n",
              " 'dong': 1,\n",
              " 'dongrae': 0,\n",
              " 'busanjin': 0,\n",
              " 'buk': 0,\n",
              " 'sasang': 0,\n",
              " 'saha': 1,\n",
              " 'suyeong': 0,\n",
              " 'yeonje': 1,\n",
              " 'yeongdo': 0,\n",
              " 'jung': 4,\n",
              " 'haeundae': 0}"
            ]
          },
          "metadata": {},
          "execution_count": 30
        }
      ]
    },
    {
      "cell_type": "code",
      "source": [
        "\n",
        "#공원에 대한 분석\n",
        "min_diff = float('inf')\n",
        "closest_gu = None\n",
        "\n",
        "for index, park_value in enumerate(busan_dataset.park):\n",
        "  diff = abs(park_value - input_user[10])\n",
        "  if diff < min_diff:\n",
        "    min_diff = diff\n",
        "    closest_gu = busan_dataset.gu[index]\n",
        "\n",
        "print(\"절댓값이 가장 근접한 구:\", closest_gu)\n",
        "print(\"절댓값의 차이:\", min_diff)\n",
        "\n",
        "result_gu[closest_gu] += 1\n",
        "\n",
        "result_gu"
      ],
      "metadata": {
        "colab": {
          "base_uri": "https://localhost:8080/"
        },
        "id": "7SORWzR68X2S",
        "outputId": "647f8b93-85c4-4db8-ba0b-a7f785920499"
      },
      "execution_count": null,
      "outputs": [
        {
          "output_type": "stream",
          "name": "stdout",
          "text": [
            "절댓값이 가장 근접한 구: jung\n",
            "절댓값의 차이: 3\n"
          ]
        },
        {
          "output_type": "execute_result",
          "data": {
            "text/plain": [
              "{'gangseo': 1,\n",
              " 'geumjeong': 1,\n",
              " 'gijang': 1,\n",
              " 'nam': 0,\n",
              " 'dong': 1,\n",
              " 'dongrae': 0,\n",
              " 'busanjin': 0,\n",
              " 'buk': 0,\n",
              " 'sasang': 0,\n",
              " 'saha': 1,\n",
              " 'suyeong': 0,\n",
              " 'yeonje': 1,\n",
              " 'yeongdo': 0,\n",
              " 'jung': 5,\n",
              " 'haeundae': 0}"
            ]
          },
          "metadata": {},
          "execution_count": 31
        }
      ]
    },
    {
      "cell_type": "code",
      "source": [
        "#학교에 대한 분석\n",
        "min_diff = float('inf')\n",
        "closest_gu = None\n",
        "\n",
        "for index, school_value in enumerate(busan_dataset.school):\n",
        "  diff = abs(school_value - input_user[11])\n",
        "  if diff < min_diff:\n",
        "    min_diff = diff\n",
        "    closest_gu = busan_dataset.gu[index]\n",
        "\n",
        "print(\"절댓값이 가장 근접한 구:\", closest_gu)\n",
        "print(\"절댓값의 차이:\", min_diff)\n",
        "\n",
        "result_gu[closest_gu] += 1\n",
        "\n",
        "result_gu\n",
        "\n"
      ],
      "metadata": {
        "colab": {
          "base_uri": "https://localhost:8080/"
        },
        "id": "pK0Gcuiz8X4r",
        "outputId": "1b7fdfc9-e93d-450a-d757-454a91821743"
      },
      "execution_count": null,
      "outputs": [
        {
          "output_type": "stream",
          "name": "stdout",
          "text": [
            "절댓값이 가장 근접한 구: jung\n",
            "절댓값의 차이: 1\n"
          ]
        },
        {
          "output_type": "execute_result",
          "data": {
            "text/plain": [
              "{'gangseo': 1,\n",
              " 'geumjeong': 1,\n",
              " 'gijang': 1,\n",
              " 'nam': 0,\n",
              " 'dong': 1,\n",
              " 'dongrae': 0,\n",
              " 'busanjin': 0,\n",
              " 'buk': 0,\n",
              " 'sasang': 0,\n",
              " 'saha': 1,\n",
              " 'suyeong': 0,\n",
              " 'yeonje': 1,\n",
              " 'yeongdo': 0,\n",
              " 'jung': 6,\n",
              " 'haeundae': 0}"
            ]
          },
          "metadata": {},
          "execution_count": 32
        }
      ]
    },
    {
      "cell_type": "code",
      "source": [
        "#은행에 대한 분석\n",
        "min_diff = float('inf')\n",
        "closest_gu = None\n",
        "\n",
        "for index, bank_value in enumerate(busan_dataset.bank):\n",
        "  diff = abs(bank_value - input_user[12])\n",
        "  if diff < min_diff:\n",
        "    min_diff = diff\n",
        "    closest_gu = busan_dataset.gu[index]\n",
        "\n",
        "print(\"절댓값이 가장 근접한 구:\", closest_gu)\n",
        "print(\"절댓값의 차이:\", min_diff)\n",
        "\n",
        "result_gu[closest_gu] += 1\n",
        "\n",
        "result_gu"
      ],
      "metadata": {
        "colab": {
          "base_uri": "https://localhost:8080/"
        },
        "id": "8yCJNrOf8duT",
        "outputId": "e9f0e5f1-74d4-46e7-ae5b-3982e6156f4a"
      },
      "execution_count": null,
      "outputs": [
        {
          "output_type": "stream",
          "name": "stdout",
          "text": [
            "절댓값이 가장 근접한 구: jung\n",
            "절댓값의 차이: 2\n"
          ]
        },
        {
          "output_type": "execute_result",
          "data": {
            "text/plain": [
              "{'gangseo': 1,\n",
              " 'geumjeong': 1,\n",
              " 'gijang': 1,\n",
              " 'nam': 0,\n",
              " 'dong': 1,\n",
              " 'dongrae': 0,\n",
              " 'busanjin': 0,\n",
              " 'buk': 0,\n",
              " 'sasang': 0,\n",
              " 'saha': 1,\n",
              " 'suyeong': 0,\n",
              " 'yeonje': 1,\n",
              " 'yeongdo': 0,\n",
              " 'jung': 7,\n",
              " 'haeundae': 0}"
            ]
          },
          "metadata": {},
          "execution_count": 33
        }
      ]
    },
    {
      "cell_type": "code",
      "source": [
        "#경로당에 대한 분석\n",
        "min_diff = float('inf')\n",
        "closest_gu = None\n",
        "\n",
        "for index, senior_value in enumerate(busan_dataset.senior):\n",
        "  diff = abs(senior_value - input_user[13])\n",
        "  if diff < min_diff:\n",
        "    min_diff = diff\n",
        "    closest_gu = busan_dataset.gu[index]\n",
        "\n",
        "print(\"절댓값이 가장 근접한 구:\", closest_gu)\n",
        "print(\"절댓값의 차이:\", min_diff)\n",
        "\n",
        "result_gu[closest_gu] += 1\n",
        "\n",
        "result_gu\n"
      ],
      "metadata": {
        "colab": {
          "base_uri": "https://localhost:8080/"
        },
        "id": "3TurBzCL8dwb",
        "outputId": "14c327ed-c8fe-45ef-94db-6afc7fc18c6d"
      },
      "execution_count": null,
      "outputs": [
        {
          "output_type": "stream",
          "name": "stdout",
          "text": [
            "절댓값이 가장 근접한 구: jung\n",
            "절댓값의 차이: 26\n"
          ]
        },
        {
          "output_type": "execute_result",
          "data": {
            "text/plain": [
              "{'gangseo': 1,\n",
              " 'geumjeong': 1,\n",
              " 'gijang': 1,\n",
              " 'nam': 0,\n",
              " 'dong': 1,\n",
              " 'dongrae': 0,\n",
              " 'busanjin': 0,\n",
              " 'buk': 0,\n",
              " 'sasang': 0,\n",
              " 'saha': 1,\n",
              " 'suyeong': 0,\n",
              " 'yeonje': 1,\n",
              " 'yeongdo': 0,\n",
              " 'jung': 8,\n",
              " 'haeundae': 0}"
            ]
          },
          "metadata": {},
          "execution_count": 34
        }
      ]
    },
    {
      "cell_type": "code",
      "source": [
        "max(result_gu, key=result_gu.get)\n",
        "\n",
        "result_gu\n",
        "\n"
      ],
      "metadata": {
        "colab": {
          "base_uri": "https://localhost:8080/"
        },
        "id": "v3zQf5PM8dyj",
        "outputId": "78408202-97d9-4dfc-8694-414a9d3ee821"
      },
      "execution_count": null,
      "outputs": [
        {
          "output_type": "execute_result",
          "data": {
            "text/plain": [
              "{'gangseo': 1,\n",
              " 'geumjeong': 1,\n",
              " 'gijang': 1,\n",
              " 'nam': 0,\n",
              " 'dong': 1,\n",
              " 'dongrae': 0,\n",
              " 'busanjin': 0,\n",
              " 'buk': 0,\n",
              " 'sasang': 0,\n",
              " 'saha': 1,\n",
              " 'suyeong': 0,\n",
              " 'yeonje': 1,\n",
              " 'yeongdo': 0,\n",
              " 'jung': 8,\n",
              " 'haeundae': 0}"
            ]
          },
          "metadata": {},
          "execution_count": 35
        }
      ]
    },
    {
      "cell_type": "code",
      "source": [
        "#if(max(result_gu, key=result_gu.get) == \"gangseo\"):\n",
        "#  print(\"최종적으로 사용자에게 강서구를 추천합니다!!\")\n",
        "#elif(max(result_gu, key=result_gu.get) == \"geumjeong\"):\n",
        "#  print(\"최종적으로 사용자에게 금정구를 추천합니다!!\")\n",
        "#elif(max(result_gu, key=result_gu.get) == \"gijang\"):\n",
        "#  print(\"최종적으로 사용자에게 기장군을 추천합니다!!\")\n",
        "#elif(max(result_gu, key=result_gu.get) == \"nam\"):\n",
        "#  print(\"최종적으로 사용자에게 남구를 추천합니다!!\")\n",
        "#elif(max(result_gu, key=result_gu.get) == \"dong\"):\n",
        "#  print(\"최종적으로 사용자에게 동구를 추천합니다!!\")\n",
        "#elif(max(result_gu, key=result_gu.get) == \"dongrae\"):\n",
        "#  print(\"최종적으로 사용자에게 동래구를 추천합니다!!\")\n",
        "#elif(max(result_gu, key=result_gu.get) == \"busanjin\"):\n",
        "#  print(\"최종적으로 사용자에게 부산진구를 추천합니다!!\")\n",
        "#elif(max(result_gu, key=result_gu.get) == \"buk\"):\n",
        "#  print(\"최종적으로 사용자에게 북구를 추천합니다!!\")\n",
        "#elif(max(result_gu, key=result_gu.get) == \"sasang\"):\n",
        "#  print(\"최종적으로 사용자에게 사상구를 추천합니다!!\")\n",
        "#elif(max(result_gu, key=result_gu.get) == \"saha\"):\n",
        "#  print(\"최종적으로 사용자에게 사하구를 추천합니다!!\")\n",
        "#elif(max(result_gu, key=result_gu.get) == \"suyeong\"):\n",
        "#  print(\"최종적으로 사용자에게 수영구를 추천합니다!!\")\n",
        "#elif(max(result_gu, key=result_gu.get) == \"yeonje\"):\n",
        "#  print(\"최종적으로 사용자에게 연제구를 추천합니다!!\")\n",
        "#elif(max(result_gu, key=result_gu.get) == \"yeongdo\"):\n",
        "#  print(\"최종적으로 사용자에게 영도구를 추천합니다!!\")\n",
        "#elif(max(result_gu, key=result_gu.get) == \"jung\"):\n",
        "#  print(\"최종적으로 사용자에게 중구를 추천합니다!!\")\n",
        "#elif(max(result_gu, key=result_gu.get) == \"haeundae\"):\n",
        "#  print(\"최종적으로 사용자에게 해운대구를 추천합니다!!\")\n",
        "\n",
        "gu_korean = {\"gangseo\" : \"강서구\", \"geumjeong\" : \"금정구\", \"gijang\":\"기장군\", \"nam\" : \"남구\", \"dong\" : \"동구\", \"dongrae\": \"동래구\",\n",
        "             \"busanjin\" : \"부산진구\", \"buk\" : \"북구\", \"sasang\" : \"사상구\", \"saha\" : \"사하구\", \"suyeong\" : \"수영구\", \"yeonje\" : \"연제구\", \"yeongdo\" : \"영도구\", \"jung\" : \"중구\", \"haeundae\" : \"해운대구\"}\n",
        "\n",
        "recommend_gu = gu_korean[max(result_gu, key=result_gu.get)]\n",
        "\n",
        "print(f\"최종적으로 사용자에게 {recommend_gu}를 추천합니다!!\")"
      ],
      "metadata": {
        "colab": {
          "base_uri": "https://localhost:8080/"
        },
        "id": "V30Vjps98d0m",
        "outputId": "24d60088-52b5-43cb-d96d-78101100e2c9"
      },
      "execution_count": null,
      "outputs": [
        {
          "output_type": "stream",
          "name": "stdout",
          "text": [
            "최종적으로 사용자에게 중구를 추천합니다!!\n"
          ]
        }
      ]
    },
    {
      "cell_type": "code",
      "source": [],
      "metadata": {
        "id": "_w__rSMI8d2z"
      },
      "execution_count": null,
      "outputs": []
    }
  ]
}